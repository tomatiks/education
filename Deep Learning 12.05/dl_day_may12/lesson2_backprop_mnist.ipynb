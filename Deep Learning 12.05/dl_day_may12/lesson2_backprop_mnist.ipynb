{
 "cells": [
  {
   "cell_type": "markdown",
   "metadata": {
    "slideshow": {
     "slide_type": "slide"
    }
   },
   "source": [
    "<center>\n",
    "<img src=\"img/ml_theme.png\">\n",
    "# Вводный курс по нейронным сетям\n",
    "<center>\n",
    "**Автор материала: программист-исследователь Mail.Ru Group  Юрий Кашницкий**"
   ]
  },
  {
   "cell_type": "markdown",
   "metadata": {
    "slideshow": {
     "slide_type": "slide"
    }
   },
   "source": [
    "# <center>Часть 2. Алгоритм Backpropagation (начало). Простая нейронная сеть на данных MNIST\n",
    "<center>Данный материал создан на базе стэнфордских курсов [cs231n](http://cs231n.stanford.edu) и [\"Machine Learning\"](https://www.coursera.org/learn/machine-learning)"
   ]
  },
  {
   "cell_type": "markdown",
   "metadata": {
    "slideshow": {
     "slide_type": "slide"
    }
   },
   "source": [
    "## План \n",
    " - Граф вычислений и backprop (на интуитивном уровне)\n",
    " - Задание на backprop в простом графе вычислений\n",
    " - Нейронная сеть для классификации изображений MNIST "
   ]
  },
  {
   "cell_type": "markdown",
   "metadata": {
    "slideshow": {
     "slide_type": "slide"
    }
   },
   "source": [
    "## Граф вычислений и backprop (на интуитивном уровне)\n",
    "\n",
    "В прошлый раз мы говорили о softmax-классификаторе. В конечном счете все сводилось к минимизации некоторой функции потерь $L(W, X)$:\n",
    "\n",
    "$\\large L = \\frac{1}{N} \\sum_{i=1}^N \\big( -f_{y_i} + \\log \\sum_{j=1}^Ke^{f_{j}}\\big) + \\lambda \\sum_{k=1}^K \\sum_{l=1}^D W^2_{k,l},$ <br>где $f = XW$\n",
    "\n",
    "Чтобы делать это эффективно (градиентными методами), мы хотим знать $\\nabla L$. Градиент можно считать аналитически, но уже даже для функции потерь softmax это не так тривиально. Тем более – делать это для сложных функций (глубоких сетей).\n"
   ]
  },
  {
   "cell_type": "markdown",
   "metadata": {
    "slideshow": {
     "slide_type": "slide"
    }
   },
   "source": [
    "Альтернатива – просто *уметь вычислять* градиент. Для начала удобно представить вычисление $L$ в виде *графа вычислений*:\n",
    "\n",
    "<img src='img/computational_graph_softmax.png'>"
   ]
  },
  {
   "cell_type": "markdown",
   "metadata": {
    "slideshow": {
     "slide_type": "slide"
    }
   },
   "source": [
    "Суть алгоритма обратного распространения ошибки – в вычислении частных производных функции на выходе по переменным на входе. В основе всего – правило дифференцирования композиции функций. Рассмотрим пару простых примеров (разбор у доски) [отсюда](http://cs231n.github.io/optimization-2/) (картинки также из курса [cs231n](http://cs231n.github.io/)). Далее, после обучения первых сетей, будем обсуждать матричные вычисления и векторизованную версию backprop.\n",
    "\n"
   ]
  },
  {
   "cell_type": "markdown",
   "metadata": {
    "slideshow": {
     "slide_type": "subslide"
    }
   },
   "source": [
    "1. $f(x, y, z) = (x + y)\\ z$\n",
    "\n",
    "Нужно определить частные производные выхода $f$ по входам $x$, $y$ и $z$.\n",
    "\n",
    "<img src='img/backprop_ex1.png'>"
   ]
  },
  {
   "cell_type": "markdown",
   "metadata": {
    "slideshow": {
     "slide_type": "subslide"
    }
   },
   "source": [
    "2\\. Логистическая регрессия для двух входов (признаков)\n",
    "\n",
    "$$f(\\textbf{w}, \\textbf{x}) = \\sigma(\\textbf{w}^T\\textbf{x}) = \\frac{1}{1 + e^{-(w_0x_0 + w_1x_1 + w_2)}}$$\n",
    "\n",
    "Нужно определить частные производные выхода $f$ по входам $w_0$, $w_1$ и $w_2$.\n",
    "\n",
    "<img src='img/backprop_ex2.png'>"
   ]
  },
  {
   "cell_type": "markdown",
   "metadata": {
    "slideshow": {
     "slide_type": "slide"
    }
   },
   "source": [
    "## Задание на backprop в простом графе вычислений\n",
    "1. $f(x, y, z) = x^2 - yz$\n",
    "\n",
    "    1.1. Нарисуйте граф вычисления функции \n",
    "    \n",
    "    1.2. Посчитайте с помощью графа значение функции для $(x, y, z) = (-2, 3, 1)$\n",
    "    \n",
    "    1.3. Посчитайте с помощью backprop значения частных производных $\\frac{\\partial{f}}{\\partial{x}}, \\frac{\\partial{f}}{\\partial{y}}$ и $\\frac{\\partial{f}}{\\partial{z}}$ при <br> $(x, y, z) = (-2, 3, 1)$\n",
    "    \n",
    "    1.4. Выведите те же производные аналитически (дифференцируя $f(x, y, z) = x^2 - yz$), посчитайте в $(-2, 3, 1)$ и сравните со значениями, полученными на прошлом шаге"
   ]
  },
  {
   "cell_type": "markdown",
   "metadata": {
    "slideshow": {
     "slide_type": "subslide"
    }
   },
   "source": [
    "2\\. Логистическая функция потерь $L = \\ln{(1 + \\exp^{-(w_0 + w_1x)})}$\n",
    "\n",
    "   2.1. Нарисуйте граф вычисления функции \n",
    "    \n",
    "   2.2. Посчитайте с помощью графа значение функции для $(w_0, w_1, x) = (-7, 4, 2)$\n",
    "    \n",
    "   2.3. Посчитайте с помощью backprop значения частных производных $\\frac{\\partial{f}}{\\partial{w_0}}, \\frac{\\partial{f}}{\\partial{w_1}}$ и $\\frac{\\partial{f}}{\\partial{x}}$ при $(w_0, w_1, x) = (-7, 4, 2)$\n",
    "    \n",
    "   2.4. Выведите $\\frac{\\partial{f}}{\\partial{w_0}}$ и $\\frac{\\partial{f}}{\\partial{w_1}}$ аналитически, посчитайте для указанных значений переменных и сравните с предыдущим результатом\n",
    "\n"
   ]
  },
  {
   "cell_type": "markdown",
   "metadata": {
    "slideshow": {
     "slide_type": "slide"
    }
   },
   "source": [
    "## Нейронная сеть для классификации изображений MNIST \n",
    "Эта часть – на базе задания [курса](https://www.coursera.org/learn/machine-learning) Andrew Ng \"Machine Learning\". Оригинальное задание #4 описано в [PDF-файле](https://github.com/Yorko/HSE_BigML_AddProfEduc/blob/master/module7_deep_learning/slides_materials/ng_ex4_backprop.pdf). "
   ]
  },
  {
   "cell_type": "code",
   "execution_count": 1,
   "metadata": {
    "collapsed": true,
    "slideshow": {
     "slide_type": "subslide"
    }
   },
   "outputs": [],
   "source": [
    "import numpy as np\n",
    "import scipy.io \n",
    "from scipy.optimize import minimize\n",
    "import matplotlib.pyplot as plt\n",
    "import matplotlib.gridspec as gridspec\n",
    "from sklearn.preprocessing import OneHotEncoder\n",
    "%matplotlib inline"
   ]
  },
  {
   "cell_type": "code",
   "execution_count": 2,
   "metadata": {
    "collapsed": true,
    "slideshow": {
     "slide_type": "subslide"
    }
   },
   "outputs": [],
   "source": [
    "data_dict = scipy.io.loadmat('data/mnist/mnist20x20.mat')\n",
    "X = data_dict['X']\n",
    "y = data_dict['y'].ravel()"
   ]
  },
  {
   "cell_type": "markdown",
   "metadata": {
    "slideshow": {
     "slide_type": "subslide"
    }
   },
   "source": [
    "5 тысяч картинок 20 x 20. $M$ – число картинок, 5000. $N$ – размерность, 400 чисел, т.к. картинки 20 x 20"
   ]
  },
  {
   "cell_type": "code",
   "execution_count": 3,
   "metadata": {
    "slideshow": {
     "slide_type": "fragment"
    }
   },
   "outputs": [
    {
     "name": "stdout",
     "output_type": "stream",
     "text": [
      "5000 400\n"
     ]
    }
   ],
   "source": [
    "M, N = X.shape\n",
    "print(M, N)"
   ]
  },
  {
   "cell_type": "markdown",
   "metadata": {
    "slideshow": {
     "slide_type": "subslide"
    }
   },
   "source": [
    "**Предобработка данных**\n",
    "Добавляем слева к $X$ столбец из всех единиц – \"фиктивная размерность\""
   ]
  },
  {
   "cell_type": "code",
   "execution_count": 4,
   "metadata": {
    "collapsed": true,
    "slideshow": {
     "slide_type": "fragment"
    }
   },
   "outputs": [],
   "source": [
    "X = np.hstack([np.ones((M, 1)), X])"
   ]
  },
  {
   "cell_type": "markdown",
   "metadata": {
    "slideshow": {
     "slide_type": "fragment"
    }
   },
   "source": [
    "сейчас $y$ – это вектор из 5000 меток классов. Применим One-Hot-Encoding и получим матрицу размерами $M \\times K$, то есть $5000 \\times 10$"
   ]
  },
  {
   "cell_type": "code",
   "execution_count": 5,
   "metadata": {
    "slideshow": {
     "slide_type": "fragment"
    }
   },
   "outputs": [
    {
     "data": {
      "text/plain": [
       "(array([10, 10, 10, 10, 10, 10, 10, 10, 10, 10], dtype=uint8),\n",
       " array([ 1,  2,  3,  4,  5,  6,  7,  8,  9, 10], dtype=uint8))"
      ]
     },
     "execution_count": 5,
     "metadata": {},
     "output_type": "execute_result"
    }
   ],
   "source": [
    "y[:10], np.unique(y)"
   ]
  },
  {
   "cell_type": "code",
   "execution_count": 6,
   "metadata": {
    "slideshow": {
     "slide_type": "subslide"
    }
   },
   "outputs": [
    {
     "data": {
      "text/plain": [
       "array([[ 0.,  0.,  0.,  0.,  0.,  0.,  0.,  0.,  0.,  1.],\n",
       "       [ 0.,  0.,  0.,  0.,  0.,  0.,  0.,  0.,  0.,  1.],\n",
       "       [ 0.,  0.,  0.,  0.,  0.,  0.,  0.,  0.,  0.,  1.],\n",
       "       [ 0.,  0.,  0.,  0.,  0.,  0.,  0.,  0.,  0.,  1.],\n",
       "       [ 0.,  0.,  0.,  0.,  0.,  0.,  0.,  0.,  0.,  1.],\n",
       "       [ 0.,  0.,  0.,  0.,  0.,  0.,  0.,  0.,  0.,  1.],\n",
       "       [ 0.,  0.,  0.,  0.,  0.,  0.,  0.,  0.,  0.,  1.],\n",
       "       [ 0.,  0.,  0.,  0.,  0.,  0.,  0.,  0.,  0.,  1.],\n",
       "       [ 0.,  0.,  0.,  0.,  0.,  0.,  0.,  0.,  0.,  1.],\n",
       "       [ 0.,  0.,  0.,  0.,  0.,  0.,  0.,  0.,  0.,  1.]])"
      ]
     },
     "execution_count": 6,
     "metadata": {},
     "output_type": "execute_result"
    }
   ],
   "source": [
    "target_encoder = OneHotEncoder(sparse=False)\n",
    "Y = target_encoder.fit_transform(y.reshape(-1, 1))\n",
    "Y[:10,:]"
   ]
  },
  {
   "cell_type": "code",
   "execution_count": 7,
   "metadata": {
    "collapsed": true,
    "slideshow": {
     "slide_type": "subslide"
    }
   },
   "outputs": [],
   "source": [
    "# Нарисуем, как выглядят картинки\n",
    "def visualize_data(M, N, dim=10):\n",
    "    num_pix = int(np.sqrt(N))\n",
    "    fig = plt.figure(figsize=(5, 5))\n",
    "\n",
    "    gs = gridspec.GridSpec(dim, dim)\n",
    "    gs.update(bottom=0.01, top=0.99, left=0.01, right=0.99, \n",
    "          hspace=0.05, wspace=0.05)\n",
    "\n",
    "    examples = X[:, 1:][np.random.randint(M, size=dim * dim)]\n",
    "    k = 0\n",
    "    for i in range(dim):\n",
    "        for j in range(dim):\n",
    "            ax = plt.subplot(gs[i, j])\n",
    "            ax.axis('off')\n",
    "            ax.imshow(examples[k].reshape(num_pix, num_pix).T,\n",
    "                cmap=plt.get_cmap('Greys'), interpolation='nearest')\n",
    "            k += 1"
   ]
  },
  {
   "cell_type": "code",
   "execution_count": 8,
   "metadata": {
    "slideshow": {
     "slide_type": "subslide"
    }
   },
   "outputs": [
    {
     "data": {
      "image/png": "[encoded data removed]",
      "text/plain": [
       "<matplotlib.figure.Figure at 0x107d419e8>"
      ]
     },
     "metadata": {},
     "output_type": "display_data"
    }
   ],
   "source": [
    "visualize_data(M, N)"
   ]
  },
  {
   "cell_type": "markdown",
   "metadata": {
    "slideshow": {
     "slide_type": "slide"
    }
   },
   "source": [
    "Архитетура будущей сети: на входе 401 нейрон (400 признаков картинок 20 x 20 + фиктивный признак из всех единиц, \"bias\"). В скрытом слое будет 25 нейронов (вместе с \"bias\" $L$ = 26). На выходе $K$ = 10 нейронов по числу классов. \n",
    "\n",
    "<img src='img/ng_neural_network_mnist.png'>"
   ]
  },
  {
   "cell_type": "code",
   "execution_count": 9,
   "metadata": {
    "collapsed": true,
    "slideshow": {
     "slide_type": "fragment"
    }
   },
   "outputs": [],
   "source": [
    "L = 26\n",
    "K = len(np.unique(y))"
   ]
  },
  {
   "cell_type": "markdown",
   "metadata": {
    "slideshow": {
     "slide_type": "subslide"
    }
   },
   "source": [
    "Матрицы параметров сети – это $\\Theta_1$ размерности $(L - 1, M) = (25, 401)$ и $\\Theta_2$ размерности $(K, L) = (10, 26)$. Первая из них отвечает за веса, связывающие каждый из 25-ти нейронов скрытого слоя с каждым из 401 нейрона входного слоя. Вторая – за веса, связывающие каждый из 10-ти нейронов выходного слоя с каждым из 26 нейронов скрытого слоя.\n",
    "\n",
    "Инициализируем параметры сети малыми случайными числами из $(-\\epsilon_{init}, \\epsilon_{init})$"
   ]
  },
  {
   "cell_type": "code",
   "execution_count": 10,
   "metadata": {
    "slideshow": {
     "slide_type": "fragment"
    }
   },
   "outputs": [
    {
     "data": {
      "text/plain": [
       "((25, 401), (10, 26), (10285,))"
      ]
     },
     "execution_count": 10,
     "metadata": {},
     "output_type": "execute_result"
    }
   ],
   "source": [
    "eps_init = 0.1\n",
    "theta_1_0 = np.random.uniform(-eps_init, eps_init, size=(L - 1, N + 1))\n",
    "theta_2_0 = np.random.uniform(-eps_init, eps_init, size = (K, L))\n",
    "\n",
    "nn_params_0 = np.concatenate((theta_1_0.flatten(), theta_2_0.flatten()))\n",
    "\n",
    "theta_1_0.shape, theta_2_0.shape, nn_params_0.shape"
   ]
  },
  {
   "cell_type": "markdown",
   "metadata": {
    "slideshow": {
     "slide_type": "slide"
    }
   },
   "source": [
    "Реализуем функцию потерь. Без регуляризации она выглядит как знакомый нам по логистической регрессии log_loss, только\n",
    "просуммированный по $K=10$ классам. \n",
    "\n",
    "$$ J(\\theta) = \\frac{1}{m}\\sum_{i=1}^{m}\\sum_{k=1}^{K}\\big[-y^{(i)}_{k}\\, \\log\\,(( h_\\theta\\,(x^{(i)}))_k)-(1-y^{(i)}_k)\\,\\log\\,(1-h_\\theta(x^{(i)}))_k)\\big]$$\n",
    "\n",
    "Здесь $h_\\theta(x)$ – это сигмоида $\\sigma(\\theta^Tx) = \\frac{1}{1 + \\exp^{-\\theta^Tx}}$\n",
    "\n",
    "В случае регуляризации выражение будет чуть посложнее:\n",
    "\n",
    "$$ J(\\theta) = \\frac{1}{m}\\sum_{i=1}^{m}\\sum_{k=1}^{K}\\bigg[-y^{(i)}_{k}\\, log\\,(( h_\\theta\\,(x^{(i)}))_k)-(1-y^{(i)}_k)\\,log\\,(1-h_\\theta(x^{(i)}))_k)\\bigg] + \\frac{\\lambda}{2m}\\bigg[\\sum_{j=1}^{25}\\sum_{k=1}^{400}(\\Theta_{j,k}^{(1)})^2+\\sum_{j=1}^{10}\\sum_{k=1}^{25}(\\Theta_{j,k}^{(2)})^2\\bigg]$$"
   ]
  },
  {
   "cell_type": "code",
   "execution_count": 11,
   "metadata": {
    "collapsed": true,
    "slideshow": {
     "slide_type": "slide"
    }
   },
   "outputs": [],
   "source": [
    "# Определим сигмоиду и ее градиент\n",
    "sigmoid = lambda x: 1 / (1 + np.exp(-x))\n",
    "sigmoid_gradient = lambda x: sigmoid(x) * (1 - sigmoid(x))\n",
    "\n",
    "def nn_cost_function_reg(nn_params, X, Y, M, N, L, K, lam):\n",
    "\n",
    "    # Unroll the parameter vector.\n",
    "    theta_1 = nn_params[:(L - 1) * (N + 1)].reshape(L - 1, N + 1)\n",
    "    theta_2 = nn_params[(L - 1) * (N + 1):].reshape(K, L)\n",
    "    \n",
    "    # Calculate activations in the second layer.\n",
    "    z_2 = theta_1.dot(X.T)\n",
    "    a_2 = sigmoid(z_2)\n",
    "    \n",
    "    # Add the second layer's bias node.\n",
    "    a_2_p = np.vstack((np.ones(M), a_2))\n",
    "    \n",
    "    # Calculate the activation of the third layer.\n",
    "    z_3 = theta_2.dot(a_2_p)\n",
    "    a_3 = sigmoid(z_3)\n",
    "    \n",
    "    # Calculate the cost function with the addition of a regularization term.\n",
    "    cost = 1 / M * np.trace(- Y.dot(np.log(a_3)) - (1 - Y).dot(np.log(1 - a_3))) \\\n",
    "        + lam / 2 / M * (np.sum(theta_1[:, 1:] * theta_1[:, 1:]) \\\n",
    "                         + np.sum(theta_2[:, 1:] * theta_2[:, 1:]))\n",
    "    \n",
    "    cache = (theta_1, theta_2, z_2, a_2_p, z_3, a_3)\n",
    "    return cost, cache"
   ]
  },
  {
   "cell_type": "markdown",
   "metadata": {
    "slideshow": {
     "slide_type": "slide"
    }
   },
   "source": [
    "Алгоритм обратного распространения ошибки будет состоять из следующих шагов:\n",
    "\n",
    "В цикле по объектам обучающей выборки ($t = 1 \\ldots M$):\n",
    "\n",
    " - Устанавливаем активацию входного слоя $a^{(1)} = x^{(t)}$ просто как признаки входного примера\n",
    " - Считаем выход сети на примере $x^{(t)}$, запоминая активации $z^{(2)}, a^{(2)}, z^{(3)}, a^{(3)}$. \n",
    " - Для каждого из выходных нейронов считаем накопившуюся ошибку: $\\delta_k^{(3)} = a_k^{(3)} - y_k$\n",
    " - Считаем ошибку в скрытом слое: $$\\delta_k^{(2)} = (\\Theta^{(2)})^T \\delta^{(3)} * \\sigma^\\prime(z^{(2)})$$ где $\\sigma^\\prime(z) = \\sigma(z) (1 - \\sigma(z))$. Почему это так – вывод у доски, поможет [правило](http://cs231n.stanford.edu/handouts/linear-backprop.pdf) backprop через линейный слой, подробней об этом – позже (результат: если $Y = XW$, то $\\frac{\\partial{L}}{\\partial{X}} = \\frac{\\partial{L}}{\\partial{Y}}W^T$ и $\\frac{\\partial{L}}{\\partial{W}} = X^T\\frac{\\partial{L}}{\\partial{Y}}$)\n",
    " - Добавляем градиент от текущего примера к уже посчитанному градиенту: $$\\Delta^{(l)} \\leftarrow \\Delta^{(l)}  + \\delta^{(l+1)}(a^{(l)})^T$$\n",
    " - Считаем градиенты функции потерь по всем весам: $$\\frac{\\partial}{\\partial\\Theta_{ij}^{(l)}}L(\\Theta) = \\frac{1}{m}\\Delta_{ij}^{(l)}$$"
   ]
  },
  {
   "cell_type": "code",
   "execution_count": 12,
   "metadata": {
    "collapsed": true,
    "slideshow": {
     "slide_type": "slide"
    }
   },
   "outputs": [],
   "source": [
    "def nn_cost_function_grad_reg(nn_params, X, Y, M, N, L, K, lam):   \n",
    "    \n",
    "    cost, cache = nn_cost_function_reg(nn_params, X, Y, M, N, L, K, lam)\n",
    "    theta_1, theta_2, z_2, a_2_p, z_3, a_3 = cache\n",
    "    \n",
    "    \n",
    "    \"\"\"Backpropagation (use the chain rule).\"\"\"\n",
    "    # Calculate the gradient for parameters in the third layer.\n",
    "    grad_theta_2 = 1 / M * (a_3 - Y.T).dot(a_2_p.T) \\\n",
    "    # this is the theta_2 grad reg term\n",
    "    + lam / M * np.hstack((np.zeros(K).reshape(-1,1), theta_2[:, 1:])) \n",
    "    \n",
    "    # Calculate the gradient for parameters in the second layer.\n",
    "    theta_delta = theta_2_0[:, 1:].T.dot(a_3 - Y.T)\n",
    "    d_z_2 = sigmoid_gradient(z_2)\n",
    "    grad_theta_1 = 1 / M * np.array([[np.sum(theta_delta[p] * d_z_2[p] * X.T[q]) \n",
    "        for q in range(N + 1)] for p in range(L - 1)]) \\\n",
    "    # this is the theta_1 grad reg term\n",
    "    + lam / M * np.hstack((np.zeros(L - 1).reshape(-1, 1), theta_1[:, 1:])) \n",
    "    \n",
    "    # Roll the two gradient vectors into a single vector.\n",
    "    grad = np.concatenate((grad_theta_1.flatten(), grad_theta_2.flatten()))  \n",
    "    \n",
    "    cost_history.append(cost)\n",
    "    return cost, grad"
   ]
  },
  {
   "cell_type": "code",
   "execution_count": 13,
   "metadata": {
    "slideshow": {
     "slide_type": "subslide"
    }
   },
   "outputs": [
    {
     "name": "stdout",
     "output_type": "stream",
     "text": [
      "CPU times: user 2min 11s, sys: 39.5 s, total: 2min 51s\n",
      "Wall time: 1min 31s\n"
     ]
    }
   ],
   "source": [
    "%%time\n",
    "lam = 1\n",
    "# Use this array to log costs calculated in the call to scipy's \"minimize\" below.\n",
    "cost_history = []\n",
    "\n",
    "res = minimize(nn_cost_function_grad_reg, nn_params_0, \n",
    "               method='L-BFGS-B', args=(X, Y, M, N, L, K, lam), \n",
    "               jac=True, options={'maxiter': 100})"
   ]
  },
  {
   "cell_type": "code",
   "execution_count": 14,
   "metadata": {
    "slideshow": {
     "slide_type": "subslide"
    }
   },
   "outputs": [
    {
     "data": {
      "text/plain": [
       "(0, 7.3786281384182271)"
      ]
     },
     "execution_count": 14,
     "metadata": {},
     "output_type": "execute_result"
    },
    {
     "data": {
      "image/png": "[encoded data removed]",
      "text/plain": [
       "<matplotlib.figure.Figure at 0x10f187160>"
      ]
     },
     "metadata": {},
     "output_type": "display_data"
    }
   ],
   "source": [
    "num_steps = 100\n",
    "\n",
    "# Нарисуем кривую обучения\n",
    "plt.figure()\n",
    "plt.scatter(np.arange(num_steps), np.array(cost_history[:num_steps]), c='k', marker='o')\n",
    "plt.xlabel('Steps')\n",
    "plt.ylabel('Cost')\n",
    "plt.xlim(-num_steps * 0.05, num_steps * 1.05)\n",
    "plt.ylim(0, max(cost_history[:num_steps]) * 1.05)"
   ]
  },
  {
   "cell_type": "markdown",
   "metadata": {
    "slideshow": {
     "slide_type": "slide"
    }
   },
   "source": [
    "Оценим качество прогнозов на самой обучающей выборке (что, конечно, некорректно, просто убеждаемся, что делается что-то разумное), запомнив сохраненные параметры."
   ]
  },
  {
   "cell_type": "code",
   "execution_count": 15,
   "metadata": {
    "slideshow": {
     "slide_type": "subslide"
    }
   },
   "outputs": [
    {
     "data": {
      "text/plain": [
       "0.93600000000000005"
      ]
     },
     "execution_count": 15,
     "metadata": {},
     "output_type": "execute_result"
    }
   ],
   "source": [
    "nn_params_learned = res['x']\n",
    "\n",
    "def nn_accuracy(nn_params, X, y, M, N, L, K, lam):\n",
    "        \n",
    "    theta_1 = nn_params[:(L - 1) * (N + 1)].reshape(L - 1, N + 1)\n",
    "    theta_2 = nn_params[(L - 1) * (N + 1):].reshape(K, L)\n",
    "    \n",
    "    z_2 = theta_1.dot(X.T)\n",
    "    a_2 = sigmoid(z_2)\n",
    "    a_2_p = np.vstack((np.ones(M), a_2))\n",
    "    a_3 = sigmoid(theta_2.dot(a_2_p))\n",
    "    \n",
    "    return np.sum((a_3.argmax(axis=0) + 1) == y) / M\n",
    "\n",
    "nn_accuracy(nn_params_learned, X, y, M, N, L, K, lam)"
   ]
  }
 ],
 "metadata": {
  "celltoolbar": "Slideshow",
  "kernelspec": {
   "display_name": "Python 3",
   "language": "python",
   "name": "python3"
  },
  "language_info": {
   "codemirror_mode": {
    "name": "ipython",
    "version": 3
   },
   "file_extension": ".py",
   "mimetype": "text/x-python",
   "name": "python",
   "nbconvert_exporter": "python",
   "pygments_lexer": "ipython3",
   "version": "3.7.1"
  }
 },
 "nbformat": 4,
 "nbformat_minor": 2
}
