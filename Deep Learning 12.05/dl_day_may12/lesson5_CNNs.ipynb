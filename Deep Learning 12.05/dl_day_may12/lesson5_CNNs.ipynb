{
 "cells": [
  {
   "cell_type": "markdown",
   "metadata": {
    "slideshow": {
     "slide_type": "slide"
    }
   },
   "source": [
    "<center>\n",
    "<img src=\"img/ml_theme.png\">\n",
    "# Вводный курс по нейронным сетям\n",
    "<center>\n",
    "**Автор материала: программист-исследователь Mail.Ru Group  Юрий Кашницкий**\n"
   ]
  },
  {
   "cell_type": "markdown",
   "metadata": {
    "slideshow": {
     "slide_type": "slide"
    }
   },
   "source": [
    "# <center>Часть 5. Сверточные нейронные сети \n",
    "<center>Обзор архитектур во многом опирается на [статью](https://habrahabr.ru/company/mailru/blog/311706/) Павла Нестерова на Хабрахабре"
   ]
  },
  {
   "cell_type": "markdown",
   "metadata": {
    "slideshow": {
     "slide_type": "slide"
    }
   },
   "source": [
    "### 1958. Hubel & Wiesel.  Биологическая мотивация\n",
    "Нобелевская премия за \"работы, касающиеся принципов переработки информации в нейронных структурах и механизмов деятельности головного мозга\".\n",
    "<center>\n",
    "<img src=\"./img/hubel_wiesel1.jpg\" width=500>"
   ]
  },
  {
   "cell_type": "markdown",
   "metadata": {
    "slideshow": {
     "slide_type": "subslide"
    }
   },
   "source": [
    "<center>\n",
    "<img src=\"./img/hubel_wiesel2.png\" width=500>\n",
    "\n",
    "Одним из результатов исследования стала модель зрительной системы, или топографическая карта, со следующими свойствами:\n",
    "</center>\n",
    "\n",
    "- соседние нейроны обрабатывают сигналы с соседних областей сетчатки;\n",
    "- нейроны образуют иерархическую структуру (изображение ниже), где каждый следующий уровень выделяет все более и более высокоуровневые признаки;\n",
    "- нейроны организованы в так называемые колонки — вычислительные блоки, которые трансформируют и передают информацию от уровня к уровню.\n"
   ]
  },
  {
   "cell_type": "markdown",
   "metadata": {
    "slideshow": {
     "slide_type": "subslide"
    }
   },
   "source": [
    "- **Simple cells**: точки или линии с определенной ориентацией \n",
    "- **Complex cells**: точки или линии с определенной ориентацией, двигающиеся в определенном направлении\n",
    "- **Hypercomplex cells**: точки или линии с определенной ориентацией и определенной длины, двигающиеся в определенном направлении \n",
    "\n",
    "<center>\n",
    "<img src=\"./img/hubel_wiesel_topographical_mapping.jpg\" width=500>\n"
   ]
  },
  {
   "cell_type": "markdown",
   "metadata": {
    "slideshow": {
     "slide_type": "slide"
    }
   },
   "source": [
    "### 1980. Neocognitron (Fukushima). Первая программная реализация идей Хьюбела и Визеля\n",
    "<center>\n",
    "<img src=\"./img/cognitron1.jpg\" width=350>\n",
    "<img src=\"./img/cognitron2.gif\" width=350>"
   ]
  },
  {
   "cell_type": "markdown",
   "metadata": {
    "slideshow": {
     "slide_type": "slide"
    }
   },
   "source": [
    "## 1998. Первая работающая сверточная сеть LeNet-5\n",
    "> *\"Gradient-based learning applied to document recognition\"* [Yann LeCun, Leon Bottou, Yoshua Bengio, Patrick Haffner](http://yann.lecun.com/exdb/publis/pdf/lecun-01a.pdf) (Speech and Image Processing Services Research Laboratory, AT&T, Montreal, Canada)\n",
    "\n",
    "<center>\n",
    "<img src=\"./img/lenet5.png\">\n",
    "</center>\n",
    "- Свертки $5 \\times 5$ со сдвигом 1 и пулинг $2 \\times 2$ со сдвигом 2\n",
    "- 60 тысяч параметров\n",
    "- Практическое применение: с помощью этой сети на почте США распознавали рукописные индексы"
   ]
  },
  {
   "cell_type": "markdown",
   "metadata": {
    "slideshow": {
     "slide_type": "slide"
    }
   },
   "source": [
    "**Операция свертки**\n",
    "\n",
    "<center>\n",
    "<img src=\"./img/convolution.jpg\" width=500>\n",
    "\n"
   ]
  },
  {
   "cell_type": "markdown",
   "metadata": {
    "slideshow": {
     "slide_type": "slide"
    }
   },
   "source": [
    "То же самое в движении – результат применения $3 \\times 3$-свертки $\\begin{bmatrix} 1 & 0 & 1\\\\ 0 & 1 & 0\\\\ 1 & 0 & 1\\end{bmatrix}$ к изображению размера $5 \\times 5$.\n",
    "<center>\n",
    "<img src=\"./img/convolution_schematic.gif\">\n",
    "</center>"
   ]
  },
  {
   "cell_type": "markdown",
   "metadata": {
    "slideshow": {
     "slide_type": "slide"
    }
   },
   "source": [
    "Свертки известны уже давно, до широкого применения нейронных сетей, причем известны они в обработке как сигналов, так видео и теперь еще и текстов. \n",
    "В случае изображений разные свертки работают как \"эффекты\", примененные к изображению. Примеры [отсюда](http://aishack.in/tutorials/image-convolution-examples/):\n",
    "\n",
    "<center>\n",
    "    Размытие\n",
    "    <img src=\"./img/conv-gaussian-blur.jpg\" width=200>\n",
    "    <img src=\"./img/conv-gaussian-blur-result.jpg\" width=400>\n",
    "\n"
   ]
  },
  {
   "cell_type": "markdown",
   "metadata": {
    "slideshow": {
     "slide_type": "slide"
    }
   },
   "source": [
    "<center>\n",
    "    Детекция линий    \n",
    "    <img src=\"./img/conv-line-detection.jpg\" width=200>\n",
    "    <img src=\"./img/conv-line-detection-horizontal-result.jpg\" width=500>\n",
    "\n"
   ]
  },
  {
   "cell_type": "markdown",
   "metadata": {
    "slideshow": {
     "slide_type": "slide"
    }
   },
   "source": [
    "<center>Детекция границ <br> <br>\n",
    "$\\begin{bmatrix} -1 & -1 & -1\\\\ -1 & 8 & -1\\\\ -1 & -1 & -1\\end{bmatrix}$\n",
    "\n",
    "<img src=\"./img/conv-edge-detection-result.jpg\" width=500>\n",
    "\n",
    "\n",
    "\n",
    "\n"
   ]
  },
  {
   "cell_type": "markdown",
   "metadata": {
    "slideshow": {
     "slide_type": "slide"
    }
   },
   "source": [
    "\n",
    "Картинка = тензор размера (ширина, высота, число каналов)\n",
    "<center>\n",
    "<img src=\"./img/convolution2.png\" width=500>"
   ]
  },
  {
   "cell_type": "markdown",
   "metadata": {
    "slideshow": {
     "slide_type": "slide"
    }
   },
   "source": [
    "1 слой состоит из нескольких фильтров (filter bank)\n",
    "<center>\n",
    "<img src=\"./img/convolution3.png\" width=500>"
   ]
  },
  {
   "cell_type": "markdown",
   "metadata": {
    "slideshow": {
     "slide_type": "slide"
    }
   },
   "source": [
    "**Сдвиг (Stride)**\n",
    "\n",
    "Stride снижает размерность (экономя тем самым вычислительные ресурсы), не теряя при этом много информации, поскольку изображения обладают свойством локальной скоррелированности пикселей — соседние пиксели, как правило, не сильно отличаются друг от друга. \n",
    "<center>\n",
    "<img src=\"./img/stride.gif\" width=400>\n",
    "\n"
   ]
  },
  {
   "cell_type": "markdown",
   "metadata": {
    "slideshow": {
     "slide_type": "slide"
    }
   },
   "source": [
    "**Дополнение (Padding)**\n",
    "\n",
    "Padding используют, чтобы пространственная размерность картинки не уменьшалась после применения свертки или уменьшалась не так быстро\n",
    "<center>\n",
    "<img src=\"./img/padding.gif\" width=400>\n",
    "\n"
   ]
  },
  {
   "cell_type": "markdown",
   "metadata": {
    "slideshow": {
     "slide_type": "slide"
    }
   },
   "source": [
    "**Пулинг (Pooling)**\n",
    "\n",
    "Есть еще архаичный вариант перевода – субдискретизация.\n",
    "<center>\n",
    "<img src=\"./img/pooling2.jpg\">"
   ]
  },
  {
   "cell_type": "markdown",
   "metadata": {
    "slideshow": {
     "slide_type": "slide"
    }
   },
   "source": [
    "**Пулинг (Pooling)**\n",
    "<center>\n",
    "<img src=\"./img/pooling1.jpg\">"
   ]
  },
  {
   "cell_type": "markdown",
   "metadata": {
    "slideshow": {
     "slide_type": "slide"
    }
   },
   "source": [
    "## 2012. Нейронные сети побеждают в соревновании ImageNet\n",
    "> *ImageNet Classification with Deep Convolutional Neural Networks* [Alex Krizhevsky, Ilya Sutskever, Geoffrey E. Hinton](http://www.cs.toronto.edu/~fritz/absps/imagenet.pdf) (University of Toronto)"
   ]
  },
  {
   "cell_type": "markdown",
   "metadata": {
    "slideshow": {
     "slide_type": "slide"
    }
   },
   "source": [
    "\n",
    "\n",
    "<center>\n",
    "<img src=\"./img/imagenet.png\">\n"
   ]
  },
  {
   "cell_type": "markdown",
   "metadata": {
    "slideshow": {
     "slide_type": "slide"
    }
   },
   "source": [
    "\n",
    "<img src=\"./img/imagenet_error_2014.png\">\n"
   ]
  },
  {
   "cell_type": "markdown",
   "metadata": {
    "slideshow": {
     "slide_type": "slide"
    }
   },
   "source": [
    "**AlexNet**\n",
    "\n",
    "- Свертки 11 × 11 –> 5 × 5 –> 3 × 3, ReLU и Max Pooling, в конце полносвязные слои, похоже на LeNet\n",
    "- GPU\n",
    "- Dropout, аугментация данных\n",
    "- в 1000 раз больше параметров, чем в LeNet\n",
    "<img src=\"./img/alexnet.png\">"
   ]
  },
  {
   "cell_type": "markdown",
   "metadata": {
    "slideshow": {
     "slide_type": "slide"
    }
   },
   "source": [
    "## 2014. Новые идеи: VGG, Network in Network и Google Inception\n",
    "\n",
    "> *Very Deep Convolutional Networks for Large-Scale Image Recognition* [Karen Simonyan, Andrew Zisserman](https://arxiv.org/pdf/1409.1556.pdf) (Visual Geometry Group, University of Oxford)\n",
    "\n",
    "<img src=\"./img/alexnet_vs_vgg15.png\" width=500>\n",
    "\n",
    "- В целом технические улучшения (\"быстрее, выше, сильнее\")\n",
    "- 144 миллиона параметров в VGG-19 \n",
    "\n",
    "\n",
    "\n",
    "\n"
   ]
  },
  {
   "cell_type": "markdown",
   "metadata": {
    "slideshow": {
     "slide_type": "slide"
    }
   },
   "source": [
    "Но и важная идея: число параметров можно сильно сократить, оставив только свертки $3 \\times 3$.\n",
    "\n",
    "<center>\n",
    "<img src=\"./img/conv3x3_insted_of_7x7.png\" width=300>"
   ]
  },
  {
   "cell_type": "markdown",
   "metadata": {
    "slideshow": {
     "slide_type": "slide"
    }
   },
   "source": [
    "Основные идеи \"Network in Network\":\n",
    " \n",
    "1\\. свертки $1 \\times 1$ внутри сверток\n",
    "\n",
    "\n",
    "<img src='img/network_in_network.png'>\n"
   ]
  },
  {
   "cell_type": "markdown",
   "metadata": {
    "slideshow": {
     "slide_type": "subslide"
    }
   },
   "source": [
    " Основные идеи \"Network in Network\":\n",
    " \n",
    "2\\. Global Average Pooling\n",
    "<img src='img/global_average_pooling.png'>\n",
    "\n",
    "Вместе это привело к избавлению от полносвязных слоев."
   ]
  },
  {
   "cell_type": "markdown",
   "metadata": {
    "slideshow": {
     "slide_type": "slide"
    }
   },
   "source": [
    "**Inception**\n",
    "\n",
    "> *Going Deeper with Convolutions* [Christian Szegedy et. al.](https://arxiv.org/pdf/1409.4842v1.pdf) (Google Inc.)\n",
    "\n",
    "<center>\n",
    "<img src=\"./img/inception_module.png\" width=700>\n",
    "\n"
   ]
  },
  {
   "cell_type": "markdown",
   "metadata": {
    "slideshow": {
     "slide_type": "slide"
    }
   },
   "source": [
    "<center>\n",
    "<img src=\"./img/inception_arch.png\">"
   ]
  },
  {
   "cell_type": "markdown",
   "metadata": {
    "slideshow": {
     "slide_type": "slide"
    }
   },
   "source": [
    "## 2015. Революция глубины\n",
    "\n",
    "> *Deep Residual Learning for Image Recognition* [He et.al.](https://arxiv.org/pdf/1512.03385v1.pdf) (Microsoft Research)\n",
    "\n",
    "<center>\n",
    "<img src=\"./img/resnet_problem.png\" width=700>\n"
   ]
  },
  {
   "cell_type": "markdown",
   "metadata": {
    "slideshow": {
     "slide_type": "slide"
    }
   },
   "source": [
    "\n",
    "Предложили добавить связь, которая поможет \"восстановить вход\".\n",
    "\n",
    "<center>\n",
    "<img src=\"./img/resnet_block.png\" width=700>\n",
    "\n"
   ]
  },
  {
   "cell_type": "markdown",
   "metadata": {
    "slideshow": {
     "slide_type": "slide"
    }
   },
   "source": [
    "Теперь получилось обучать вот такие сети, вплоть до 152 слоев (а сейчас и больше тысячи). [An Overview of ResNet and its Variants](https://towardsdatascience.com/an-overview-of-resnet-and-its-variants-5281e2f56035).\n",
    "\n",
    "<center>\n",
    "<img src=\"./img/resnet_vs_vgg19.png\" width=250>\n",
    "\n"
   ]
  },
  {
   "cell_type": "markdown",
   "metadata": {
    "slideshow": {
     "slide_type": "slide"
    }
   },
   "source": [
    "В 2015 году Microsoft победил во всех пяти номинациях ImageNet. Более того, в классификации ошибка оказалась даже ниже \"человеческой\".\n",
    "\n",
    "<center>\n",
    "<img src=\"./img/resnet_image_net_error.png\">"
   ]
  }
 ],
 "metadata": {
  "celltoolbar": "Slideshow",
  "kernelspec": {
   "display_name": "Python 3",
   "language": "python",
   "name": "python3"
  },
  "language_info": {
   "codemirror_mode": {
    "name": "ipython",
    "version": 3
   },
   "file_extension": ".py",
   "mimetype": "text/x-python",
   "name": "python",
   "nbconvert_exporter": "python",
   "pygments_lexer": "ipython3",
   "version": "3.6.1"
  }
 },
 "nbformat": 4,
 "nbformat_minor": 2
}
