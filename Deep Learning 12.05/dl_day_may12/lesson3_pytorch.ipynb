{
 "cells": [
  {
   "cell_type": "markdown",
   "metadata": {},
   "source": [
    "<center>\n",
    "<img src=\"img/ml_theme.png\">\n",
    "# Вводный курс по нейронным сетям\n",
    "<center>\n",
    "**Автор материала: программист-исследователь Mail.Ru Group  Юрий Кашницкий**"
   ]
  },
  {
   "cell_type": "markdown",
   "metadata": {},
   "source": [
    "# <center>Часть 3. Алгоритм Backpropagation (продолжение), основы библиотеки PyTorch\n",
    "<center>Данный материал создан на базе [лекций](https://habrahabr.ru/company/mailru/blog/344982/) \"Техносферы\", подробной [статьи](https://habrahabr.ru/post/334380/) на Хабрахабре по PyTorch и [документации](http://pytorch.org/docs/0.3.0/)"
   ]
  },
  {
   "cell_type": "markdown",
   "metadata": {},
   "source": [
    "## План\n",
    "1. Простая нейронная сеть на NumPy\n",
    "2. Тензоры и операции над ними\n",
    "3. Простая нейронная сеть на PyTorch (ручное дифференцирование)\n",
    "4. Автоматическое дифференцирование\n",
    "5. Простая нейронная сеть на PyTorch (автоматическое дифференцирование)\n",
    "6. Загрузка и подготовка данных\n",
    "7. Softmax-классификатор с MNIST\n",
    "8. Сохранение и загрузка модели"
   ]
  },
  {
   "cell_type": "markdown",
   "metadata": {},
   "source": [
    "## 1. Простая нейронная сеть на NumPy"
   ]
  },
  {
   "cell_type": "code",
   "execution_count": 1,
   "metadata": {
    "collapsed": true
   },
   "outputs": [],
   "source": [
    "import numpy as np\n",
    "from tqdm import tqdm_notebook\n",
    "from matplotlib import pyplot as plt\n",
    "%matplotlib inline"
   ]
  },
  {
   "cell_type": "markdown",
   "metadata": {},
   "source": [
    "Рассмотрим задачу регрессии, но не настолько стандартную, как в случае двух векторов и МНК. На входе матрица $X$ размерности $N \\times D$ со случайными значениями из нормального распределения, на выходе – матрица $Y$ размерности $N \\times C$, тоже со случайными значениями из нормального распределения. Будем обучать нейронную сеть с одним скрытым слоем, пусть в нем $H$ нейронов. Метрика – среднеквадратичная ошибка. Сеть должна восстановить значения $Y$ по входу $X$. И ничего страшного, что сейчас мы будем переобучаться. \n",
    "\n",
    "<img src='img/hw3_net.png'>\n",
    "\n",
    "*Разбор графа вычислений и backprop у доски. В помощь: [\"Backpropagation for a Linear Layer\"](http://cs231n.stanford.edu/handouts/linear-backprop.pdf).*"
   ]
  },
  {
   "cell_type": "code",
   "execution_count": 2,
   "metadata": {},
   "outputs": [
    {
     "data": {
      "application/vnd.jupyter.widget-view+json": {
       "model_id": "d9bed1f0859e497d919ae2e76533097c"
      }
     },
     "metadata": {},
     "output_type": "display_data"
    },
    {
     "name": "stdout",
     "output_type": "stream",
     "text": [
      "\n"
     ]
    }
   ],
   "source": [
    "# N - размер батча; D_in - размерность входа;\n",
    "# H - скрытая размерность; D_out размерность выхода.\n",
    "N, D, H, C = 64, 1000, 100, 10\n",
    "\n",
    "# инициализируем вход и выход из нормального распределения\n",
    "x = np.random.randn(N, D)\n",
    "y = np.random.randn(N, C)\n",
    "\n",
    "# Инициализируем веса из нормального распределения\n",
    "w1 = np.random.randn(D, H)\n",
    "w2 = np.random.randn(H, C)\n",
    "\n",
    "# будем запоминать значения функции потерь по 100 итерациям\n",
    "loss_by_iter = []\n",
    "num_epochs = 100\n",
    "learning_rate = 1e-6\n",
    "\n",
    "for t in tqdm_notebook(range(num_epochs)):\n",
    "\n",
    "    # активация в скрытом слое перед нелинейностью\n",
    "    h = x.dot(w1)\n",
    "    \n",
    "    # Используем функцию активации ReLU\n",
    "    # Получаем активацию в скрытом слое после применения нелинейности\n",
    "    h_relu = np.maximum(h, 0)\n",
    "    \n",
    "    # Выход\n",
    "    y_pred = h_relu.dot(w2)\n",
    "\n",
    "    # Считаем функцию потерь, запоминаем ее\n",
    "    loss = np.square(y_pred - y).sum()\n",
    "    loss_by_iter.append(loss)\n",
    "\n",
    "    # Считаем градиенты (backprop)\n",
    "    grad_y_pred = 2 * (y_pred - y)\n",
    "    grad_w2 = h_relu.T.dot(grad_y_pred)\n",
    "    grad_h_relu = grad_y_pred.dot(w2.T)\n",
    "    grad_h = grad_h_relu.copy()\n",
    "    grad_h[h < 0] = 0\n",
    "    grad_w1 = x.T.dot(grad_h)\n",
    "\n",
    "    # Обновляем веса\n",
    "    w1 -= learning_rate * grad_w1\n",
    "    w2 -= learning_rate * grad_w2 "
   ]
  },
  {
   "cell_type": "code",
   "execution_count": 3,
   "metadata": {},
   "outputs": [
    {
     "data": {
      "image/png": "[encoded data removed]",
      "text/plain": [
       "<matplotlib.figure.Figure at 0x112f6d240>"
      ]
     },
     "metadata": {},
     "output_type": "display_data"
    }
   ],
   "source": [
    "plt.plot(range(num_epochs), loss_by_iter);\n",
    "plt.xlabel('iter')\n",
    "plt.ylabel('loss');"
   ]
  },
  {
   "cell_type": "markdown",
   "metadata": {},
   "source": [
    "Тут произошло немало матричных умножений, а конкретно, 500. В большой нейронной сети счет пойдет на миллиарды, и эффективней делать это распределенно и на GPU. PyTorch создан как раз для этого: чтоб писать код было почти так же приятно, как на NumPy, только производные еще сами будут считаться (автоматическое дифференцирование, AD), а вычисления будут происходить на GPU. Если упрощать, то \n",
    "<br><br>\n",
    "<center>**PyTorch = NumPy + CUDA + AD**</center>\n",
    "\n",
    "Но сначала надо научиться работать с тензорами. Ничего общего с математическим определением тензора как полилинейного оператора, тут все проще: тензор – это по сути тот же многомерный массивы `NumPy`, только с ним можно работать на GPU."
   ]
  },
  {
   "cell_type": "markdown",
   "metadata": {
    "collapsed": true
   },
   "source": [
    "## 2. Тензоры и операции над ними"
   ]
  },
  {
   "cell_type": "markdown",
   "metadata": {},
   "source": [
    "В интерфейсе базовых операций тензор ничем не отличается от `np.array`, но при этом тензоры можно эффективно использовать при обучении на GPU. "
   ]
  },
  {
   "cell_type": "code",
   "execution_count": 4,
   "metadata": {
    "collapsed": true
   },
   "outputs": [],
   "source": [
    "import torch"
   ]
  },
  {
   "cell_type": "markdown",
   "metadata": {},
   "source": [
    " Другие возможные типы:"
   ]
  },
  {
   "cell_type": "code",
   "execution_count": 6,
   "metadata": {
    "collapsed": true
   },
   "outputs": [],
   "source": [
    "torch.HalfTensor;      # 16 бит, с плавающей точкой\n",
    "torch.FloatTensor;     # 32 бита,  с плавающей точкой\n",
    "torch.DoubleTensor;    # 64 бита, с плавающей точкой\n",
    "\n",
    "torch.ShortTensor;     # 16 бит, целочисленный, знаковый\n",
    "torch.IntTensor;       # 32 бита, целочисленный, знаковый\n",
    "torch.LongTensor;      # 64 бита, целочисленный, знаковый\n",
    "\n",
    "torch.CharTensor;      # 8 бит, целочисленный, знаковый\n",
    "torch.ByteTensor;      # 8 бит, целочисленный, беззнаковый"
   ]
  },
  {
   "cell_type": "markdown",
   "metadata": {},
   "source": [
    "Тензор, инициализированный значениями из равномерного распределения."
   ]
  },
  {
   "cell_type": "code",
   "execution_count": 7,
   "metadata": {},
   "outputs": [
    {
     "data": {
      "text/plain": [
       "tensor([[ 0.8520,  0.9648,  0.9146],\n",
       "        [ 0.2606,  0.9351,  0.5818],\n",
       "        [ 0.0226,  0.1164,  0.1932],\n",
       "        [ 0.1460,  0.7345,  0.4539],\n",
       "        [ 0.3634,  0.0839,  0.1272]])"
      ]
     },
     "execution_count": 7,
     "metadata": {},
     "output_type": "execute_result"
    }
   ],
   "source": [
    "x = torch.rand(5, 3)\n",
    "x"
   ]
  },
  {
   "cell_type": "markdown",
   "metadata": {},
   "source": [
    "А вот, к примеру, `ByteTensor` размерности $3 \\times 4$. Кто-то тут уже даже видит картинку. "
   ]
  },
  {
   "cell_type": "code",
   "execution_count": 8,
   "metadata": {},
   "outputs": [
    {
     "data": {
      "text/plain": [
       "tensor([[  84,  101,   39,  151],\n",
       "        [  64,   12,   53,   85],\n",
       "        [ 134,    4,  255,   89]], dtype=torch.uint8)"
      ]
     },
     "execution_count": 8,
     "metadata": {},
     "output_type": "execute_result"
    }
   ],
   "source": [
    "a = torch.ByteTensor(3, 4).random_()\n",
    "a"
   ]
  },
  {
   "cell_type": "code",
   "execution_count": 9,
   "metadata": {},
   "outputs": [
    {
     "data": {
      "text/plain": [
       "torch.Size([5, 3])"
      ]
     },
     "execution_count": 9,
     "metadata": {},
     "output_type": "execute_result"
    }
   ],
   "source": [
    "x.size()"
   ]
  },
  {
   "cell_type": "markdown",
   "metadata": {},
   "source": [
    "Сложение тензоров"
   ]
  },
  {
   "cell_type": "code",
   "execution_count": 10,
   "metadata": {},
   "outputs": [
    {
     "data": {
      "text/plain": [
       "tensor([[ 0.1780,  0.6796,  0.0114],\n",
       "        [ 0.7583,  0.7170,  0.3849],\n",
       "        [ 0.1423,  0.7807,  0.9958],\n",
       "        [ 0.4177,  0.0790,  0.0106],\n",
       "        [ 0.4029,  0.8197,  0.6498]])"
      ]
     },
     "execution_count": 10,
     "metadata": {},
     "output_type": "execute_result"
    }
   ],
   "source": [
    "y = torch.rand(5, 3)\n",
    "y"
   ]
  },
  {
   "cell_type": "markdown",
   "metadata": {},
   "source": [
    "Первый вариант"
   ]
  },
  {
   "cell_type": "code",
   "execution_count": 11,
   "metadata": {},
   "outputs": [
    {
     "data": {
      "text/plain": [
       "tensor([[ 1.0300,  1.6444,  0.9260],\n",
       "        [ 1.0190,  1.6522,  0.9667],\n",
       "        [ 0.1649,  0.8971,  1.1890],\n",
       "        [ 0.5637,  0.8135,  0.4645],\n",
       "        [ 0.7663,  0.9036,  0.7770]])"
      ]
     },
     "execution_count": 11,
     "metadata": {},
     "output_type": "execute_result"
    }
   ],
   "source": [
    "x + y"
   ]
  },
  {
   "cell_type": "markdown",
   "metadata": {},
   "source": [
    "Второй вариант"
   ]
  },
  {
   "cell_type": "code",
   "execution_count": 12,
   "metadata": {},
   "outputs": [
    {
     "data": {
      "text/plain": [
       "tensor([[ 1.0300,  1.6444,  0.9260],\n",
       "        [ 1.0190,  1.6522,  0.9667],\n",
       "        [ 0.1649,  0.8971,  1.1890],\n",
       "        [ 0.5637,  0.8135,  0.4645],\n",
       "        [ 0.7663,  0.9036,  0.7770]])"
      ]
     },
     "execution_count": 12,
     "metadata": {},
     "output_type": "execute_result"
    }
   ],
   "source": [
    "x.add(y)"
   ]
  },
  {
   "cell_type": "markdown",
   "metadata": {},
   "source": [
    "Третий вариант"
   ]
  },
  {
   "cell_type": "code",
   "execution_count": 13,
   "metadata": {},
   "outputs": [
    {
     "data": {
      "text/plain": [
       "tensor([[ 1.0300,  1.6444,  0.9260],\n",
       "        [ 1.0190,  1.6522,  0.9667],\n",
       "        [ 0.1649,  0.8971,  1.1890],\n",
       "        [ 0.5637,  0.8135,  0.4645],\n",
       "        [ 0.7663,  0.9036,  0.7770]])"
      ]
     },
     "execution_count": 13,
     "metadata": {},
     "output_type": "execute_result"
    }
   ],
   "source": [
    "torch.add(x, y)"
   ]
  },
  {
   "cell_type": "markdown",
   "metadata": {},
   "source": [
    "Выход можно сохранить в другую переменную"
   ]
  },
  {
   "cell_type": "code",
   "execution_count": 14,
   "metadata": {},
   "outputs": [
    {
     "data": {
      "text/plain": [
       "tensor([[ 1.0300,  1.6444,  0.9260],\n",
       "        [ 1.0190,  1.6522,  0.9667],\n",
       "        [ 0.1649,  0.8971,  1.1890],\n",
       "        [ 0.5637,  0.8135,  0.4645],\n",
       "        [ 0.7663,  0.9036,  0.7770]])"
      ]
     },
     "execution_count": 14,
     "metadata": {},
     "output_type": "execute_result"
    }
   ],
   "source": [
    "result = torch.Tensor(5, 3)\n",
    "torch.add(x, y, out=result)"
   ]
  },
  {
   "cell_type": "markdown",
   "metadata": {},
   "source": [
    "Перевод из numpy в torch"
   ]
  },
  {
   "cell_type": "code",
   "execution_count": 15,
   "metadata": {},
   "outputs": [
    {
     "name": "stdout",
     "output_type": "stream",
     "text": [
      "[ 2.  2.  2.  2.  2.]\n",
      "tensor([ 2.,  2.,  2.,  2.,  2.], dtype=torch.float64)\n"
     ]
    }
   ],
   "source": [
    "a = np.ones(5)\n",
    "b = torch.from_numpy(a)\n",
    "np.add(a, 1, out=a)\n",
    "print(a)\n",
    "print(b) "
   ]
  },
  {
   "cell_type": "markdown",
   "metadata": {},
   "source": [
    "Матричное умножение тензоров"
   ]
  },
  {
   "cell_type": "code",
   "execution_count": 16,
   "metadata": {
    "collapsed": true
   },
   "outputs": [],
   "source": [
    "a = torch.randn(5, 3) \n",
    "b = torch.randn(3, 4)"
   ]
  },
  {
   "cell_type": "code",
   "execution_count": 17,
   "metadata": {},
   "outputs": [
    {
     "data": {
      "text/plain": [
       "tensor([[-0.5300,  2.0902, -1.3401,  0.8438],\n",
       "        [-1.4397, -1.5000,  1.6658,  2.2095],\n",
       "        [ 1.0143, -1.8657,  0.6975, -0.7985],\n",
       "        [-0.6684,  1.1371,  0.6792, -2.4056],\n",
       "        [-2.4721,  1.0150,  1.4781,  0.3531]])"
      ]
     },
     "execution_count": 17,
     "metadata": {},
     "output_type": "execute_result"
    }
   ],
   "source": [
    "torch.mm(a,b)\n",
    "a.mm(b)"
   ]
  },
  {
   "cell_type": "markdown",
   "metadata": {},
   "source": [
    "В Python 3 можно просто так:"
   ]
  },
  {
   "cell_type": "code",
   "execution_count": 18,
   "metadata": {},
   "outputs": [
    {
     "data": {
      "text/plain": [
       "tensor([[-0.5300,  2.0902, -1.3401,  0.8438],\n",
       "        [-1.4397, -1.5000,  1.6658,  2.2095],\n",
       "        [ 1.0143, -1.8657,  0.6975, -0.7985],\n",
       "        [-0.6684,  1.1371,  0.6792, -2.4056],\n",
       "        [-2.4721,  1.0150,  1.4781,  0.3531]])"
      ]
     },
     "execution_count": 18,
     "metadata": {},
     "output_type": "execute_result"
    }
   ],
   "source": [
    "a @ b"
   ]
  },
  {
   "cell_type": "markdown",
   "metadata": {},
   "source": [
    "Подробней про тензоры и в целом про PyTorch – в этой классной [статье](https://habrahabr.ru/post/334380/) на Хабре."
   ]
  },
  {
   "cell_type": "markdown",
   "metadata": {},
   "source": [
    "## 3. Простая нейронная сеть на PyTorch (ручное дифференцирование)\n",
    "\n",
    "Пока что отличия от первой `NumPy`-версии выглядят почти что косметическими. Но уже один важный момент: если изменить тип тензоров `dtype`, то данные могут обрабатываться на GPU, если она настроена."
   ]
  },
  {
   "cell_type": "code",
   "execution_count": 19,
   "metadata": {},
   "outputs": [
    {
     "name": "stderr",
     "output_type": "stream",
     "text": [
      "Widget Javascript not detected.  It may not be installed or enabled properly.\n"
     ]
    },
    {
     "data": {
      "application/vnd.jupyter.widget-view+json": {
       "model_id": "70659ec904524ac1a53bd4662f6cd9db"
      }
     },
     "metadata": {},
     "output_type": "display_data"
    },
    {
     "name": "stdout",
     "output_type": "stream",
     "text": [
      "\n"
     ]
    }
   ],
   "source": [
    "dtype = torch.FloatTensor\n",
    "# dtype = torch.cuda.FloatTensor # GPU\n",
    "\n",
    "N, D_in, H, D_out = 64, 1000, 100, 10\n",
    "\n",
    "x = torch.randn(N, D_in).type(dtype)\n",
    "y = torch.randn(N, D_out).type(dtype)\n",
    "\n",
    "w1 = torch.randn(D_in, H).type(dtype)\n",
    "w2 = torch.randn(H, D_out).type(dtype)\n",
    "\n",
    "# будем запоминать значения функции потерь по 100 итерациям\n",
    "loss_by_iter = []\n",
    "num_epochs = 100\n",
    "learning_rate = 1e-6\n",
    "for t in tqdm_notebook(range(num_epochs)):\n",
    "\n",
    "    h = x.mm(w1)\n",
    "    h_relu = h.clamp(min=0)\n",
    "    y_pred = h_relu.mm(w2)\n",
    "\n",
    "    loss = (y_pred - y).pow(2).sum()\n",
    "    loss_by_iter.append(loss)\n",
    "\n",
    "    grad_y_pred = 2.0 * (y_pred - y)\n",
    "    grad_w2 = h_relu.t().mm(grad_y_pred)\n",
    "    grad_h_relu = grad_y_pred.mm(w2.t())\n",
    "    grad_h = grad_h_relu.clone()\n",
    "    grad_h[h < 0] = 0\n",
    "    grad_w1 = x.t().mm(grad_h)\n",
    "\n",
    "    w1 -= learning_rate * grad_w1\n",
    "    w2 -= learning_rate * grad_w2"
   ]
  },
  {
   "cell_type": "code",
   "execution_count": 20,
   "metadata": {},
   "outputs": [
    {
     "data": {
      "image/png": "[encoded data removed]",
      "text/plain": [
       "<matplotlib.figure.Figure at 0x11affeba8>"
      ]
     },
     "metadata": {},
     "output_type": "display_data"
    }
   ],
   "source": [
    "plt.plot(range(num_epochs), loss_by_iter);\n",
    "plt.xlabel('iter')\n",
    "plt.ylabel('loss');"
   ]
  },
  {
   "cell_type": "markdown",
   "metadata": {},
   "source": [
    "## 4. Автоматическое дифференцирование "
   ]
  },
  {
   "cell_type": "markdown",
   "metadata": {},
   "source": [
    "Начиная с версии 0.4.0 объект `tensor` хранит сам тензор, его градиент и указатель, который позволяет поместить тензор в граф вычислений. В прежних версиях это было в `torch.autograd.Variable`, где `Variable` можно было рассматривать как обертку вокруг тензора.\n",
    "Через аргумент `data` передаются данные. Аргумент `requires_grad` – нужно ли для этой переменной вычислять градиент. Скажем, для входа $X$ и выхода $Y$ не надо, поскольку их мы менять не собираемся.\n",
    "\n",
    "После окончания вычислений можно просто запустить `.backward()`, и все нужные градиенты будут посчитаны. \n",
    "\n",
    "![](https://habrastorage.org/webt/p0/vm/q7/p0vmq74amxsgztephnluw_woan8.jpeg)\n",
    "\n",
    "По мере вычисления строится граф, в котором каждый узел – это `tensor` (в прежних версиях PyTorch – `torch.autograd.Variable`).\n",
    "У каждой переменной есть `.grad_fn`, где хранится производная функции (класс `Function`), породившей эту переменную. \n",
    "\n",
    "\n",
    "Покажем на примере:\n",
    "\n",
    "$X = \\begin{bmatrix} 1 & 1 \\\\ 1 & 1\\end{bmatrix}$, $Z = 2 * (X + 2) ^ 2$, $out = \\bar{Z}$\n"
   ]
  },
  {
   "cell_type": "code",
   "execution_count": 21,
   "metadata": {},
   "outputs": [
    {
     "data": {
      "text/plain": [
       "tensor([[ 1.,  1.],\n",
       "        [ 1.,  1.]])"
      ]
     },
     "execution_count": 21,
     "metadata": {},
     "output_type": "execute_result"
    }
   ],
   "source": [
    "x = torch.ones(2, 2, requires_grad=True)\n",
    "x  "
   ]
  },
  {
   "cell_type": "code",
   "execution_count": 22,
   "metadata": {},
   "outputs": [
    {
     "data": {
      "text/plain": [
       "tensor([[ 1.,  1.],\n",
       "        [ 1.,  1.]])"
      ]
     },
     "execution_count": 22,
     "metadata": {},
     "output_type": "execute_result"
    }
   ],
   "source": [
    "x.data"
   ]
  },
  {
   "cell_type": "code",
   "execution_count": 23,
   "metadata": {
    "collapsed": true
   },
   "outputs": [],
   "source": [
    "x.grad"
   ]
  },
  {
   "cell_type": "code",
   "execution_count": 24,
   "metadata": {
    "collapsed": true
   },
   "outputs": [],
   "source": [
    "# производная операции, которая породила переменную, пока пусто\n",
    "x.grad_fn"
   ]
  },
  {
   "cell_type": "code",
   "execution_count": 25,
   "metadata": {},
   "outputs": [
    {
     "data": {
      "text/plain": [
       "tensor([[ 3.,  3.],\n",
       "        [ 3.,  3.]])"
      ]
     },
     "execution_count": 25,
     "metadata": {},
     "output_type": "execute_result"
    }
   ],
   "source": [
    "y = x + 2\n",
    "y"
   ]
  },
  {
   "cell_type": "markdown",
   "metadata": {},
   "source": [
    "Переменная $y$ была порождена в процессе вычисления некоторой функции. У этой функции есть производная, поэтому `y.grad_fn` уже не пуст."
   ]
  },
  {
   "cell_type": "code",
   "execution_count": 26,
   "metadata": {},
   "outputs": [
    {
     "data": {
      "text/plain": [
       "<AddBackward0 at 0x11affe390>"
      ]
     },
     "execution_count": 26,
     "metadata": {},
     "output_type": "execute_result"
    }
   ],
   "source": [
    "y.grad_fn"
   ]
  },
  {
   "cell_type": "code",
   "execution_count": 27,
   "metadata": {},
   "outputs": [
    {
     "data": {
      "text/plain": [
       "tensor([[ 18.,  18.],\n",
       "        [ 18.,  18.]])"
      ]
     },
     "execution_count": 27,
     "metadata": {},
     "output_type": "execute_result"
    }
   ],
   "source": [
    "z = y * y * 2\n",
    "z"
   ]
  },
  {
   "cell_type": "code",
   "execution_count": 28,
   "metadata": {},
   "outputs": [
    {
     "data": {
      "text/plain": [
       "tensor(18.)"
      ]
     },
     "execution_count": 28,
     "metadata": {},
     "output_type": "execute_result"
    }
   ],
   "source": [
    "out = z.mean()\n",
    "out"
   ]
  },
  {
   "cell_type": "markdown",
   "metadata": {},
   "source": [
    "Запускаем бэкпроп"
   ]
  },
  {
   "cell_type": "code",
   "execution_count": 29,
   "metadata": {
    "collapsed": true
   },
   "outputs": [],
   "source": [
    "out.backward()"
   ]
  },
  {
   "cell_type": "code",
   "execution_count": 30,
   "metadata": {},
   "outputs": [
    {
     "data": {
      "text/plain": [
       "tensor([[ 3.,  3.],\n",
       "        [ 3.,  3.]])"
      ]
     },
     "execution_count": 30,
     "metadata": {},
     "output_type": "execute_result"
    }
   ],
   "source": [
    "x.grad"
   ]
  },
  {
   "cell_type": "markdown",
   "metadata": {},
   "source": [
    "И дальше, в общем-то, можно творить что угодно. PyTorch будет запоминать все вычисления, строить их граф и будет знать, как посчитать се градиенты."
   ]
  },
  {
   "cell_type": "code",
   "execution_count": 31,
   "metadata": {},
   "outputs": [
    {
     "name": "stdout",
     "output_type": "stream",
     "text": [
      "tensor([ 1207.6654,   615.0544,   467.4764])\n"
     ]
    }
   ],
   "source": [
    "v = torch.randn(3, requires_grad=True)\n",
    "\n",
    "w = v * 2\n",
    "while w.data.norm() < 1000:\n",
    "    w = w * 2\n",
    "\n",
    "print(w)"
   ]
  },
  {
   "cell_type": "code",
   "execution_count": 32,
   "metadata": {},
   "outputs": [
    {
     "name": "stdout",
     "output_type": "stream",
     "text": [
      "tensor([  51.2000,  512.0000,    0.0512])\n"
     ]
    }
   ],
   "source": [
    "gradients = torch.FloatTensor([0.1, 1.0, 0.0001])\n",
    "w.backward(gradients)\n",
    "\n",
    "print(v.grad)"
   ]
  },
  {
   "cell_type": "markdown",
   "metadata": {},
   "source": [
    "А вот как можно написать свой вычислительный блок – вершину графа вычислений. Надо наследоваться от `torch.autograd.Function` и реализовать прямой и обратный проходы - методы `forward` и `backward`. \n",
    "\n",
    "- метод `forward` принимает вход, производит с ним необходимые вычисления и сохраняет вход, чтоб потом посчитать градиент приобратном проходе\n",
    "- метод `backward` принимает градиент, распаковывает сохраненные ранее (при прямом проходе) переменные и вычисляет градиент, который надо будет далее распространить по графу вычислений\n",
    "\n",
    "И так, в общем-то, все это работает для сколь угодно сложных слоев. Вот пример с ReLU:"
   ]
  },
  {
   "cell_type": "code",
   "execution_count": 33,
   "metadata": {
    "collapsed": true
   },
   "outputs": [],
   "source": [
    "class MyReLU(torch.autograd.Function):\n",
    "\n",
    "    def forward(self, inp):\n",
    "        self.save_for_backward(inp)\n",
    "        return inp.clamp(min=0)\n",
    "\n",
    "    def backward(self, grad_out):\n",
    "        inp, = self.saved_tensors\n",
    "        grad_inp = grad_out.clone()\n",
    "        grad_inp[inp < 0] = 0\n",
    "        return grad_inp"
   ]
  },
  {
   "cell_type": "markdown",
   "metadata": {},
   "source": [
    "Если мы хотим сохранить значения переменных в графе, то используем `retain_graph` = True. \n",
    "Это может быть нужно, если мы хотим несколько раз подряд сделать backprop."
   ]
  },
  {
   "cell_type": "code",
   "execution_count": 34,
   "metadata": {},
   "outputs": [
    {
     "data": {
      "text/plain": [
       "tensor([[ 1.,  1.],\n",
       "        [ 1.,  1.]])"
      ]
     },
     "execution_count": 34,
     "metadata": {},
     "output_type": "execute_result"
    }
   ],
   "source": [
    "x = torch.ones(2, 2, requires_grad = True)\n",
    "y = x + 2\n",
    "y.backward(torch.ones(2, 2))\n",
    "x.grad"
   ]
  },
  {
   "cell_type": "code",
   "execution_count": 35,
   "metadata": {},
   "outputs": [
    {
     "data": {
      "text/plain": [
       "tensor([[ 0.3550,  0.0180],\n",
       "        [-0.6153,  1.7628]])"
      ]
     },
     "execution_count": 35,
     "metadata": {},
     "output_type": "execute_result"
    }
   ],
   "source": [
    "gradient = torch.randn(2, 2)\n",
    "\n",
    "y.backward(gradient)\n",
    "\n",
    "x.grad"
   ]
  },
  {
   "cell_type": "markdown",
   "metadata": {},
   "source": [
    "## 5. Простая нейронная сеть на PyTorch (автоматическое дифференцирование)\n",
    "\n",
    "Вот теперь уже действительно включается вся мощь фреймворков глубокого обучения. Не вручную с карандашом и листиком, в очках, выписываем производные, а считаем их автоматически."
   ]
  },
  {
   "cell_type": "code",
   "execution_count": 36,
   "metadata": {},
   "outputs": [
    {
     "name": "stderr",
     "output_type": "stream",
     "text": [
      "Widget Javascript not detected.  It may not be installed or enabled properly.\n"
     ]
    },
    {
     "data": {
      "application/vnd.jupyter.widget-view+json": {
       "model_id": "9f1a921b51464b359077e40d1ae7115a"
      }
     },
     "metadata": {},
     "output_type": "display_data"
    },
    {
     "name": "stdout",
     "output_type": "stream",
     "text": [
      "\n"
     ]
    }
   ],
   "source": [
    "N, D_in, D_out = 64, 1000, 10\n",
    "\n",
    "# переменные x и у, их менять не будем\n",
    "x = torch.randn(N, D_in) #, requires_grad=False)\n",
    "y = torch.randn(N, D_out) #, requires_grad=False)\n",
    "\n",
    "# Модель – линейная, добавили просто линейный слой\n",
    "model = torch.nn.Sequential(\n",
    "          torch.nn.Linear(D_in, D_out))\n",
    "\n",
    "loss_fn = torch.nn.MSELoss(size_average=False)\n",
    "\n",
    "# будем запоминать значения функции потерь по 100 итерациям\n",
    "loss_by_iter = []\n",
    "num_epochs = 100\n",
    "learning_rate = 1e-4\n",
    "for t in tqdm_notebook(range(num_epochs)):\n",
    "    \n",
    "    # прямой проход\n",
    "    y_pred = model(x)\n",
    "    loss = loss_fn(y_pred, y)\n",
    "    loss_by_iter.append(loss.data.item())\n",
    "\n",
    "    # обратный проход\n",
    "    loss.backward()\n",
    "\n",
    "    # обновление весов\n",
    "    for param in model.parameters():\n",
    "        param.data -= learning_rate * param.grad.data\n",
    "    \n",
    "    # Вручную зануляем градиенты после обновления весов\n",
    "    model.zero_grad()"
   ]
  },
  {
   "cell_type": "code",
   "execution_count": 37,
   "metadata": {},
   "outputs": [
    {
     "data": {
      "image/png": "[encoded data removed]",
      "text/plain": [
       "<matplotlib.figure.Figure at 0x11c881d68>"
      ]
     },
     "metadata": {},
     "output_type": "display_data"
    }
   ],
   "source": [
    "plt.plot(range(num_epochs), loss_by_iter);\n",
    "plt.xlabel('iter')\n",
    "plt.ylabel('loss');"
   ]
  },
  {
   "cell_type": "code",
   "execution_count": 38,
   "metadata": {},
   "outputs": [
    {
     "data": {
      "text/plain": [
       "tensor(1.00000e-10 *\n",
       "       6.3265)"
      ]
     },
     "execution_count": 38,
     "metadata": {},
     "output_type": "execute_result"
    }
   ],
   "source": [
    "loss_fn(model(x), y)"
   ]
  },
  {
   "cell_type": "markdown",
   "metadata": {},
   "source": [
    "Теперь то же самое, только градиентный спуск не руками пишем, а используем готовый оптимизатор, например Adam. Обсуждение различных оптимизаторов, как и прочих трюков обучения нейронных сетей – тема 4 лекции."
   ]
  },
  {
   "cell_type": "code",
   "execution_count": 39,
   "metadata": {},
   "outputs": [
    {
     "name": "stderr",
     "output_type": "stream",
     "text": [
      "Widget Javascript not detected.  It may not be installed or enabled properly.\n"
     ]
    },
    {
     "data": {
      "application/vnd.jupyter.widget-view+json": {
       "model_id": "31b7de32bc5d491a9713b08b78acaf98"
      }
     },
     "metadata": {},
     "output_type": "display_data"
    },
    {
     "name": "stdout",
     "output_type": "stream",
     "text": [
      "\n"
     ]
    }
   ],
   "source": [
    "N, D_in, D_out = 64, 1000, 10\n",
    "\n",
    "x = torch.randn(N, D_in)\n",
    "y = torch.randn(N, D_out)\n",
    "\n",
    "model = torch.nn.Sequential(\n",
    "          torch.nn.Linear(D_in, D_out))\n",
    "\n",
    "# с `size_average=False` потери суммируются по всем батчам, то есть деления на размер батча не происходит\n",
    "loss_fn = torch.nn.MSELoss(size_average=False)\n",
    "\n",
    "# будем запоминать значения функции потерь по 100 итерациям\n",
    "loss_by_iter = []\n",
    "num_epochs = 200\n",
    "learning_rate = 1e-4\n",
    "optimizer = torch.optim.Adam(model.parameters(), lr=learning_rate)\n",
    "\n",
    "for t in tqdm_notebook(range(num_epochs)):\n",
    "    \n",
    "    # прямой проход\n",
    "    y_pred = model(x)\n",
    "    loss = loss_fn(y_pred, y)\n",
    "    loss_by_iter.append(loss.data.item())\n",
    "\n",
    "    # обратный проход\n",
    "    loss.backward()\n",
    "    \n",
    "    # шаг обновления весов\n",
    "    optimizer.step()\n",
    "    \n",
    "    # вручную зануляем градиенты после обновления весов\n",
    "    optimizer.zero_grad()"
   ]
  },
  {
   "cell_type": "code",
   "execution_count": 40,
   "metadata": {
    "scrolled": true
   },
   "outputs": [
    {
     "data": {
      "image/png": "[encoded data removed]",
      "text/plain": [
       "<matplotlib.figure.Figure at 0x11d9ee7f0>"
      ]
     },
     "metadata": {},
     "output_type": "display_data"
    }
   ],
   "source": [
    "plt.plot(range(num_epochs), loss_by_iter);\n",
    "plt.xlabel('iter')\n",
    "plt.ylabel('loss');"
   ]
  },
  {
   "cell_type": "markdown",
   "metadata": {},
   "source": [
    "## 6. Загрузка и подготовка данных\n",
    "\n",
    "В `PyTorch` очень удобные классы для загрузка и подготовка данных:\n",
    "Основные классы `torch.utils.data`\n",
    "- `Dataset` – загрузка данных, предобработка, аугментация\n",
    "- `DataLoader` – разбиение на батчи, перемешивание объектов и балансировка классов"
   ]
  },
  {
   "cell_type": "code",
   "execution_count": 41,
   "metadata": {
    "collapsed": true
   },
   "outputs": [],
   "source": [
    "from torch.utils.data import DataLoader\n",
    "from torchvision.datasets import MNIST\n",
    "from torchvision import transforms\n",
    "import torch.nn as nn\n",
    "\n",
    "mnist_mean, mnist_std = 0.1307, 0.3081 # заранее посчитаны\n",
    "\n",
    "transform = transforms.Compose([\n",
    "                       transforms.ToTensor(),\n",
    "                       transforms.Normalize((mnist_mean,), (mnist_std,))\n",
    "                    ])\n",
    "train_dataset = MNIST('data/mnist/', train=True, download=False, transform=transform)\n",
    "test_dataset = MNIST('data/mnist/', train=False, transform=transform)\n",
    "\n",
    "train_loader = DataLoader(train_dataset, batch_size=32, shuffle=True)\n",
    "test_loader = DataLoader(test_dataset, batch_size=32, shuffle=True)"
   ]
  },
  {
   "cell_type": "markdown",
   "metadata": {},
   "source": [
    "## 7. Softmax-классификатор с MNIST\n",
    "\n",
    "Определям прямой проход для сети. С обратным `PyTorch` как раз сам разберется, поскольку мы задействуем слой `nn.Linear`, а для него обратный проход уже реализован."
   ]
  },
  {
   "cell_type": "code",
   "execution_count": 42,
   "metadata": {
    "collapsed": true
   },
   "outputs": [],
   "source": [
    "class MySoftmax(nn.Module):\n",
    "    def __init__(self, input_size, num_classes):\n",
    "        super(MySoftmax, self).__init__()\n",
    "        self.linear = nn.Linear(input_size, num_classes)\n",
    "    \n",
    "    def forward(self, x):\n",
    "        out = self.linear(x)\n",
    "        return out"
   ]
  },
  {
   "cell_type": "markdown",
   "metadata": {},
   "source": [
    "Задаем константы, в том числе гиперпараметры обучения"
   ]
  },
  {
   "cell_type": "code",
   "execution_count": 43,
   "metadata": {
    "collapsed": true
   },
   "outputs": [],
   "source": [
    "input_size, num_classes = 784, 10\n",
    "num_epochs, batch_size, learning_rate = 5, 128, 1e-3"
   ]
  },
  {
   "cell_type": "markdown",
   "metadata": {},
   "source": [
    "Создаем модель и указываем фукцию потерь и оптимизатор. `CrossEntropyLoss` как раз будет считать Softmax."
   ]
  },
  {
   "cell_type": "code",
   "execution_count": 44,
   "metadata": {
    "collapsed": true
   },
   "outputs": [],
   "source": [
    "model = MySoftmax(input_size, num_classes)\n",
    "\n",
    "criterion = nn.CrossEntropyLoss()  \n",
    "optimizer = torch.optim.SGD(model.parameters(), lr=learning_rate) "
   ]
  },
  {
   "cell_type": "markdown",
   "metadata": {},
   "source": [
    "Обучаем модель."
   ]
  },
  {
   "cell_type": "code",
   "execution_count": 45,
   "metadata": {},
   "outputs": [
    {
     "name": "stderr",
     "output_type": "stream",
     "text": [
      "Widget Javascript not detected.  It may not be installed or enabled properly.\n"
     ]
    },
    {
     "data": {
      "application/vnd.jupyter.widget-view+json": {
       "model_id": "828a0f73fe0a4f12b292f28b56124be2"
      }
     },
     "metadata": {},
     "output_type": "display_data"
    },
    {
     "name": "stdout",
     "output_type": "stream",
     "text": [
      "\n"
     ]
    }
   ],
   "source": [
    "loss_by_iter = []\n",
    "for epoch in tqdm_notebook(range(num_epochs)):\n",
    "    for i, (images, labels) in enumerate(train_loader):\n",
    "        # images.view преобразует тензор так, чтоб второе измерение было длины 28 * 28=784\n",
    "        images = images.view(-1, 28 * 28)\n",
    "        \n",
    "        # Forward + Backward + Optimize\n",
    "        optimizer.zero_grad()\n",
    "        outputs = model(images)\n",
    "        loss = criterion(outputs, labels)\n",
    "        loss_by_iter.append(loss.data.item())\n",
    "        loss.backward()\n",
    "        optimizer.step()"
   ]
  },
  {
   "cell_type": "code",
   "execution_count": 46,
   "metadata": {},
   "outputs": [
    {
     "data": {
      "image/png": "[encoded data removed]",
      "text/plain": [
       "<matplotlib.figure.Figure at 0x11dae83c8>"
      ]
     },
     "metadata": {},
     "output_type": "display_data"
    }
   ],
   "source": [
    "plt.plot(range(len(loss_by_iter)), loss_by_iter);\n",
    "plt.xlabel('iter')\n",
    "plt.ylabel('loss');"
   ]
  },
  {
   "cell_type": "markdown",
   "metadata": {},
   "source": [
    "Проверяем модель на тестовых данных."
   ]
  },
  {
   "cell_type": "code",
   "execution_count": 47,
   "metadata": {},
   "outputs": [
    {
     "name": "stdout",
     "output_type": "stream",
     "text": [
      "Accuracy of the model on the 10000 test images: 90 %\n"
     ]
    }
   ],
   "source": [
    "correct, total = 0, 0\n",
    "for images, labels in test_loader:\n",
    "    images = images.view(-1, 28 * 28)\n",
    "    outputs = model(images)\n",
    "    _, predicted = torch.max(outputs.data, 1)\n",
    "    total += labels.size(0)\n",
    "    correct += (predicted == labels).sum()\n",
    "    \n",
    "print('Accuracy of the model on the 10000 test images: %d %%' % (100 * correct / total))"
   ]
  },
  {
   "cell_type": "markdown",
   "metadata": {},
   "source": [
    "Качество довольно скромное. Не хватает настройки гиперпараметров. А заметное улучшение качества будет достигаться за счет других моделей – сверточных нейронных сетей (5-ая лекция)."
   ]
  },
  {
   "cell_type": "markdown",
   "metadata": {},
   "source": [
    "## 8. Сохранение и загрузка модели\n",
    "\n",
    "К этому моменту мы уже провели какие-то вычисления, это заняло около минуты. Большие нейронные сети могут обучаться неделями, месяцами и даже вплоть до года в случае ImageNet. Поэтому полезно уметь сохранить веса сети вместе с ее состоянием (оптимизатор, номер эпохи, размер батча и т.д.), чтоб потом \"достать\" для применения (прогнозов) или дообучения."
   ]
  },
  {
   "cell_type": "code",
   "execution_count": 48,
   "metadata": {
    "collapsed": true
   },
   "outputs": [],
   "source": [
    "def save_checkpoint(state, filename='checkpoint.tar'):\n",
    "    torch.save(state, filename)\n",
    "    \n",
    "epoch = 10   \n",
    "save_checkpoint({\n",
    "            'epoch': epoch,\n",
    "            'state_dict': model.state_dict(),\n",
    "            'optimizer' : optimizer.state_dict()\n",
    "})"
   ]
  },
  {
   "cell_type": "markdown",
   "metadata": {},
   "source": [
    "Пример загрузки модели из файла"
   ]
  },
  {
   "cell_type": "code",
   "execution_count": 49,
   "metadata": {
    "collapsed": true
   },
   "outputs": [],
   "source": [
    "checkpoint = torch.load('checkpoint.tar')\n",
    "start_epoch = checkpoint['epoch']\n",
    "model.load_state_dict(checkpoint['state_dict'])\n",
    "optimizer.load_state_dict(checkpoint['optimizer'])"
   ]
  }
 ],
 "metadata": {
  "kernelspec": {
   "display_name": "Python 3",
   "language": "python",
   "name": "python3"
  },
  "language_info": {
   "codemirror_mode": {
    "name": "ipython",
    "version": 3
   },
   "file_extension": ".py",
   "mimetype": "text/x-python",
   "name": "python",
   "nbconvert_exporter": "python",
   "pygments_lexer": "ipython3",
   "version": "3.6.1"
  }
 },
 "nbformat": 4,
 "nbformat_minor": 1
}
